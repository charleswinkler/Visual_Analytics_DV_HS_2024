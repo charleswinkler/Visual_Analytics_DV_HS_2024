{
 "cells": [
  {
   "metadata": {},
   "cell_type": "markdown",
   "source": [
    "# Daten einlesen\n",
    "Von einer API Daten beziehen, welches im JSON-Format verarbeitet wird.\n",
    "\n",
    "Dies ist eine Implementierungsaufgabe für das Aufgabenblatt 2, Aufgabe 3 a).\n",
    "\n",
    "Der Code ist mit Hilfe von ChatGPT erstellt"
   ],
   "id": "e010454550c13206"
  },
  {
   "metadata": {},
   "cell_type": "markdown",
   "source": [
    "## Schritt 1: Beide Datensätze per API abrufen\n",
    "\n",
    "Zwei separate Anfragen werden gestellt an die jeweiligen API-Endpunkte und die Ergebnisse in Variablen gespeichert."
   ],
   "id": "30cc120700d3c35c"
  },
  {
   "metadata": {
    "ExecuteTime": {
     "end_time": "2024-10-09T00:32:36.766031Z",
     "start_time": "2024-10-09T00:32:36.035305Z"
    }
   },
   "cell_type": "code",
   "source": [
    "import requests\n",
    "\n",
    "# API-Schlüssel und Basis-URL\n",
    "api_key = \"51f70e7235b13a17eebb9f141225c45c53250d54c2035bd5c202f001\"\n",
    "base_url = \"https://data.bs.ch/api/explore/v2.1/catalog/datasets/\"\n",
    "\n",
    "# Erster Datensatz einlesen\n",
    "dataset1_url = f\"{base_url}100088/records?apikey={api_key}\"\n",
    "response1 = requests.get(dataset1_url)\n",
    "if response1.status_code == 200:\n",
    "    dataset1 = response1.json()  # Daten in einer Variablen speichern\n",
    "    print(\"Datensatz 1 erfolgreich geladen.\")\n",
    "else:\n",
    "    print(f\"Fehler beim Laden von Datensatz 1: {response1.status_code}\")\n",
    "\n",
    "# Zweiter Datensatz einlesen\n",
    "dataset2_url = f\"{base_url}100009/records?apikey={api_key}&limit=20\"\n",
    "response2 = requests.get(dataset2_url)\n",
    "if response2.status_code == 200:\n",
    "    dataset2 = response2.json()  # Daten in einer Variablen speichern\n",
    "    print(\"Datensatz 2 erfolgreich geladen.\")\n",
    "else:\n",
    "    print(f\"Fehler beim Laden von Datensatz 2: {response2.status_code}\")\n"
   ],
   "id": "54e0f041ab6e3648",
   "outputs": [
    {
     "name": "stdout",
     "output_type": "stream",
     "text": [
      "Datensatz 1 erfolgreich geladen.\n",
      "Datensatz 2 erfolgreich geladen.\n"
     ]
    }
   ],
   "execution_count": 18
  },
  {
   "metadata": {},
   "cell_type": "markdown",
   "source": [
    "## Schritt 2: Beide Datensätze speichern und verarbeiten\n",
    "\n",
    "Jetzt, wo beide Datensätze in dataset1 und dataset2 gespeichert sind, können sie später für verschiedene Analysen oder zur Visualisierung verwendet werden. Sie können entweder in einem lokalen Dateiformat gespeichert oder direkt im Speicher weiterverarbeitet werden.\n",
    "Beispiel: Beide Datensätze speichern\n",
    "\n",
    "Falls die Daten zwischengespeichert werden sollen, können sie in einer JSON- oder CSV-Datei gespeichert werden:"
   ],
   "id": "a670e7a09f8c6bcc"
  },
  {
   "metadata": {
    "ExecuteTime": {
     "end_time": "2024-10-09T00:37:22.044720Z",
     "start_time": "2024-10-09T00:37:22.028007Z"
    }
   },
   "cell_type": "code",
   "source": [
    "import json\n",
    "\n",
    "# Beide Datensätze als JSON-Dateien speichern\n",
    "with open('dataset1.json', 'w') as f:\n",
    "    json.dump(dataset1, f)\n",
    "\n",
    "with open('dataset2.json', 'w') as f:\n",
    "    json.dump(dataset2, f)\n",
    "\n",
    "print(\"Datensätze wurden erfolgreich gespeichert.\")\n"
   ],
   "id": "b1a615fd4ca6eac",
   "outputs": [
    {
     "name": "stdout",
     "output_type": "stream",
     "text": [
      "Datensätze wurden erfolgreich gespeichert.\n"
     ]
    }
   ],
   "execution_count": 22
  },
  {
   "metadata": {},
   "cell_type": "markdown",
   "source": [
    "## Schritt 3: Beide Datensätze weiterverwenden\n",
    "\n",
    "Später können die beiden Datensätze entweder kombiniert oder individuell genutzt werden, z.B. für eine Analyse, Visualisierung oder weitere API-Abfragen. Hier ein einfaches Beispiel, wie man mit den Daten weiterarbeitet:"
   ],
   "id": "a75168ab2f21e28a"
  },
  {
   "metadata": {
    "ExecuteTime": {
     "end_time": "2024-10-09T00:37:24.513976Z",
     "start_time": "2024-10-09T00:37:24.499689Z"
    }
   },
   "cell_type": "code",
   "source": [
    "# Beispiel: Kombination von Datensätzen\n",
    "combined_data = dataset1['results'] + dataset2['results']  # Kombiniert die Datensätze\n",
    "print(f\"Anzahl kombinierter Datensätze: {len(combined_data)}\")\n",
    "\n"
   ],
   "id": "dc509615e63bd17",
   "outputs": [
    {
     "name": "stdout",
     "output_type": "stream",
     "text": [
      "Anzahl kombinierter Datensätze: 30\n"
     ]
    }
   ],
   "execution_count": 23
  },
  {
   "metadata": {
    "ExecuteTime": {
     "end_time": "2024-10-09T00:34:49.831856Z",
     "start_time": "2024-10-09T00:34:49.827997Z"
    }
   },
   "cell_type": "code",
   "source": [
    "# Ausgabe der Struktur der API-Antworten\n",
    "print(\"Dataset 1 Struktur:\")\n",
    "print(dataset1)  # Zeige die gesamte Antwort oder einen Teil davon an\n",
    "\n",
    "print(\"\\nDataset 2 Struktur:\")\n",
    "print(dataset2)  # Zeige die gesamte Antwort oder einen Teil davon an\n"
   ],
   "id": "27b4a1ada8c0b835",
   "outputs": [
    {
     "name": "stdout",
     "output_type": "stream",
     "text": [
      "Dataset 1 Struktur:\n",
      "{'total_count': 17, 'results': [{'title': 'Parkhaus Bad. Bahnhof', 'published': '2024-10-09T00:32:00+00:00', 'free': 227, 'total': 300, 'anteil_frei': 0.7566666666666667, 'auslastung': 0.2433333333333333, 'auslastung_prozent': 24.33333333333333, 'link': 'https://www.parkleitsystem-basel.ch/parkhaus/badbahnhof', 'geo_point_2d': {'lon': 7.6089067, 'lat': 47.5651794}, 'description': 'Anzahl freie Parkplätze: 227', 'name': 'Bad. Bahnhof', 'id2': 'badbahnhof'}, {'title': 'Parkhaus Claramatte', 'published': '2024-10-09T00:32:00+00:00', 'free': 124, 'total': 100, 'anteil_frei': 1.24, 'auslastung': -0.24, 'auslastung_prozent': -24.0, 'link': 'https://www.parkleitsystem-basel.ch/parkhaus/claramatte', 'geo_point_2d': {'lon': 7.5946604, 'lat': 47.5639644}, 'description': 'Anzahl freie Parkplätze: 124', 'name': 'Claramatte', 'id2': 'claramatte'}, {'title': 'Parkhaus Steinen', 'published': '2024-10-09T00:32:00+00:00', 'free': 434, 'total': 526, 'anteil_frei': 0.8250950570342205, 'auslastung': 0.17490494296577952, 'auslastung_prozent': 17.490494296577953, 'link': 'https://www.parkleitsystem-basel.ch/parkhaus/steinen', 'geo_point_2d': {'lon': 7.5858936, 'lat': 47.5524554}, 'description': 'Anzahl freie Parkplätze: 434', 'name': 'Steinen', 'id2': 'steinen'}, {'title': 'Parkhaus City', 'published': '2024-10-09T00:32:00+00:00', 'free': 980, 'total': 1114, 'anteil_frei': 0.8797127468581688, 'auslastung': 0.1202872531418312, 'auslastung_prozent': 12.02872531418312, 'link': 'https://www.parkleitsystem-basel.ch/parkhaus/city', 'geo_point_2d': {'lon': 7.5824076, 'lat': 47.561101}, 'description': 'Anzahl freie Parkplätze: 980', 'name': 'City', 'id2': 'city'}, {'title': 'Parkhaus Storchen', 'published': '2024-10-09T00:32:00+00:00', 'free': 130, 'total': 142, 'anteil_frei': 0.9154929577464789, 'auslastung': 0.08450704225352113, 'auslastung_prozent': 8.450704225352112, 'link': 'https://www.parkleitsystem-basel.ch/parkhaus/storchen', 'geo_point_2d': {'lon': 7.58658, 'lat': 47.5592347}, 'description': 'Anzahl freie Parkplätze: 130', 'name': 'Storchen', 'id2': 'storchen'}, {'title': 'Parkhaus Aeschen', 'published': '2024-10-09T00:32:00+00:00', 'free': 89, 'total': 97, 'anteil_frei': 0.9175257731958762, 'auslastung': 0.08247422680412375, 'auslastung_prozent': 8.247422680412376, 'link': 'https://www.parkleitsystem-basel.ch/parkhaus/aeschen', 'geo_point_2d': {'lon': 7.5943046, 'lat': 47.5504299}, 'description': 'Anzahl freie Parkplätze: 89', 'name': 'Aeschen', 'id2': 'aeschen'}, {'title': 'Parkhaus Kunstmuseum', 'published': '2024-10-09T00:32:00+00:00', 'free': 314, 'total': 350, 'anteil_frei': 0.8971428571428571, 'auslastung': 0.10285714285714287, 'auslastung_prozent': 10.285714285714286, 'link': 'https://www.parkleitsystem-basel.ch/parkhaus/kunstmuseum', 'geo_point_2d': {'lon': 7.5927014, 'lat': 47.5545146}, 'description': 'Anzahl freie Parkplätze: 314', 'name': 'Kunstmuseum', 'id2': 'kunstmuseum'}, {'title': 'Zur Zeit haben wir keine aktuellen Parkhausdaten erhalten', 'published': None, 'free': None, 'total': None, 'anteil_frei': None, 'auslastung': None, 'auslastung_prozent': None, 'link': None, 'geo_point_2d': None, 'description': None, 'name': None, 'id2': None}, {'title': 'Parkhaus Messe', 'published': '2024-10-09T00:32:00+00:00', 'free': 582, 'total': 752, 'anteil_frei': 0.773936170212766, 'auslastung': 0.22606382978723405, 'auslastung_prozent': 22.606382978723406, 'link': 'https://www.parkleitsystem-basel.ch/parkhaus/messe', 'geo_point_2d': {'lon': 7.602175, 'lat': 47.563241}, 'description': 'Anzahl freie Parkplätze: 582', 'name': 'Messe', 'id2': 'messe'}, {'title': 'Parkhaus Europe', 'published': '2024-10-09T00:32:00+00:00', 'free': 85, 'total': 120, 'anteil_frei': 0.7083333333333334, 'auslastung': 0.29166666666666663, 'auslastung_prozent': 29.166666666666664, 'link': 'https://www.parkleitsystem-basel.ch/parkhaus/europe', 'geo_point_2d': {'lon': 7.5967098, 'lat': 47.5630411}, 'description': 'Anzahl freie Parkplätze: 85', 'name': 'Europe', 'id2': 'europe'}]}\n",
      "\n",
      "Dataset 2 Struktur:\n",
      "{'total_count': 5245327, 'results': [{'name_original': '03200246', 'name_custom': 'Binningen', 'dates_max_date': '2024-05-15T06:59:51+00:00', 'meta_airtemp': 13.11, 'meta_rain_1h_val': 0.0, 'meta_rain24h_sum': 0.0, 'meta_rain48h_sum': 0.0, 'coords': {'lon': 7.58355, 'lat': 47.5411}, 'stadtklima_basel_link': 'https://meteoblue.com/de/products/cityclimate/basel#03200246', 'unix_timestamp': 1715756391}, {'name_original': '03400150', 'name_custom': 'Feldbergstrasse', 'dates_max_date': '2024-05-15T07:08:19+00:00', 'meta_airtemp': 14.55, 'meta_rain_1h_val': 0.0, 'meta_rain24h_sum': 3.2, 'meta_rain48h_sum': 13.0, 'coords': {'lon': 7.5947387754631, 'lat': 47.567028810383}, 'stadtklima_basel_link': 'https://meteoblue.com/de/products/cityclimate/basel#03400150', 'unix_timestamp': 1715756899}, {'name_original': '0340015E', 'name_custom': 'Lysbüchel 1', 'dates_max_date': '2024-05-15T07:08:44+00:00', 'meta_airtemp': 14.07, 'meta_rain_1h_val': 0.0, 'meta_rain24h_sum': 2.4, 'meta_rain48h_sum': 9.6, 'coords': {'lon': 7.57355, 'lat': 47.57355}, 'stadtklima_basel_link': 'https://meteoblue.com/de/products/cityclimate/basel#0340015E', 'unix_timestamp': 1715756924}, {'name_original': '0340016A', 'name_custom': 'Schaffhauserrheinweg', 'dates_max_date': '2024-05-15T07:07:07+00:00', 'meta_airtemp': 13.73, 'meta_rain_1h_val': 0.0, 'meta_rain24h_sum': 1.8, 'meta_rain48h_sum': 87.8, 'coords': {'lon': 7.60092, 'lat': 47.55702}, 'stadtklima_basel_link': 'https://meteoblue.com/de/products/cityclimate/basel#0340016A', 'unix_timestamp': 1715756827}, {'name_original': '0340016D', 'name_custom': 'Binningen', 'dates_max_date': '2024-05-15T07:01:41+00:00', 'meta_airtemp': 13.18, 'meta_rain_1h_val': 0.0, 'meta_rain24h_sum': 3.0, 'meta_rain48h_sum': 28.2, 'coords': {'lon': 7.58367, 'lat': 47.54101}, 'stadtklima_basel_link': 'https://meteoblue.com/de/products/cityclimate/basel#0340016D', 'unix_timestamp': 1715756501}, {'name_original': '0340019A', 'name_custom': 'Gleisbett (Mast 2)', 'dates_max_date': '2024-05-15T06:55:25+00:00', 'meta_airtemp': 13.38, 'meta_rain_1h_val': 0.0, 'meta_rain24h_sum': 0.0, 'meta_rain48h_sum': 0.0, 'coords': {'lon': 7.60985, 'lat': 47.54253}, 'stadtklima_basel_link': 'https://meteoblue.com/de/products/cityclimate/basel#0340019A', 'unix_timestamp': 1715756125}, {'name_original': '034001A7', 'name_custom': 'Schulhaus Leonhard 4', 'dates_max_date': '2024-05-15T07:00:09+00:00', 'meta_airtemp': 14.29, 'meta_rain_1h_val': 0.0, 'meta_rain24h_sum': 1.2, 'meta_rain48h_sum': 11.4, 'coords': {'lon': 7.586700005026201, 'lat': 47.55445323222687}, 'stadtklima_basel_link': 'https://meteoblue.com/de/products/cityclimate/basel#034001A7', 'unix_timestamp': 1715756409}, {'name_original': '034001AD', 'name_custom': 'Büro', 'dates_max_date': '2024-05-15T07:08:28+00:00', 'meta_airtemp': 23.99, 'meta_rain_1h_val': 0.0, 'meta_rain24h_sum': 0.0, 'meta_rain48h_sum': 0.0, 'coords': None, 'stadtklima_basel_link': 'https://meteoblue.com/de/products/cityclimate/basel#034001AD', 'unix_timestamp': 1715756908}, {'name_original': '03400394', 'name_custom': 'Brünnlinrain (Laterne)', 'dates_max_date': '2024-05-15T07:06:06+00:00', 'meta_airtemp': 13.77, 'meta_rain_1h_val': 0.0, 'meta_rain24h_sum': 1.6, 'meta_rain48h_sum': 4.2, 'coords': {'lon': 7.65379, 'lat': 47.59267}, 'stadtklima_basel_link': 'https://meteoblue.com/de/products/cityclimate/basel#03400394', 'unix_timestamp': 1715756766}, {'name_original': '034003AF', 'name_custom': 'Blotzheimerweg', 'dates_max_date': '2024-05-15T06:25:04+00:00', 'meta_airtemp': 13.06, 'meta_rain_1h_val': 0.2, 'meta_rain24h_sum': 2.0, 'meta_rain48h_sum': 16.4, 'coords': {'lon': 7.5607, 'lat': 47.56172}, 'stadtklima_basel_link': 'https://meteoblue.com/de/products/cityclimate/basel#034003AF', 'unix_timestamp': 1715754304}, {'name_original': '034099C0', 'name_custom': 'Horburgstrasse', 'dates_max_date': '2024-05-15T07:05:37+00:00', 'meta_airtemp': 14.81, 'meta_rain_1h_val': 0.0, 'meta_rain24h_sum': 1.0, 'meta_rain48h_sum': 3.4, 'coords': {'lon': 7.59273, 'lat': 47.57082}, 'stadtklima_basel_link': 'https://meteoblue.com/de/products/cityclimate/basel#034099C0', 'unix_timestamp': 1715756737}, {'name_original': '0340A00F', 'name_custom': 'Schützenweg', 'dates_max_date': '2024-05-15T06:40:28+00:00', 'meta_airtemp': 13.35, 'meta_rain_1h_val': 0.2, 'meta_rain24h_sum': 2.2, 'meta_rain48h_sum': 11.6, 'coords': {'lon': 7.55963, 'lat': 47.55334}, 'stadtklima_basel_link': 'https://meteoblue.com/de/products/cityclimate/basel#0340A00F', 'unix_timestamp': 1715755228}, {'name_original': '0340A0D7', 'name_custom': 'Gempenstrasse', 'dates_max_date': '2024-05-15T07:09:30+00:00', 'meta_airtemp': 14.23, 'meta_rain_1h_val': 0.0, 'meta_rain24h_sum': 1.8, 'meta_rain48h_sum': 26.4, 'coords': {'lon': 7.58671, 'lat': 47.54428}, 'stadtklima_basel_link': 'https://meteoblue.com/de/products/cityclimate/basel#0340A0D7', 'unix_timestamp': 1715756970}, {'name_original': '0340AD70', 'name_custom': 'Bachmattenstrasse', 'dates_max_date': '2024-05-15T07:00:26+00:00', 'meta_airtemp': 13.82, 'meta_rain_1h_val': 0.0, 'meta_rain24h_sum': 1.6, 'meta_rain48h_sum': 15.4, 'coords': {'lon': 7.56045, 'lat': 47.54422}, 'stadtklima_basel_link': 'https://meteoblue.com/de/products/cityclimate/basel#0340AD70', 'unix_timestamp': 1715756426}, {'name_original': '0340AD72', 'name_custom': 'Ingelsteinweg', 'dates_max_date': '2024-05-15T07:00:01+00:00', 'meta_airtemp': 13.82, 'meta_rain_1h_val': 0.0, 'meta_rain24h_sum': 0.4, 'meta_rain48h_sum': 15.2, 'coords': {'lon': 7.59381, 'lat': 47.53983}, 'stadtklima_basel_link': 'https://meteoblue.com/de/products/cityclimate/basel#0340AD72', 'unix_timestamp': 1715756401}, {'name_original': '0340AD77', 'name_custom': 'Freiburgerstraße', 'dates_max_date': '2024-05-15T07:05:10+00:00', 'meta_airtemp': 13.28, 'meta_rain_1h_val': 0.0, 'meta_rain24h_sum': 1.6, 'meta_rain48h_sum': 1.8, 'coords': {'lon': 7.6580963400649, 'lat': 47.631697010124}, 'stadtklima_basel_link': 'https://meteoblue.com/de/products/cityclimate/basel#0340AD77', 'unix_timestamp': 1715756710}, {'name_original': '0340AD8F', 'name_custom': 'Gundeldingerstrasse 2', 'dates_max_date': '2024-05-15T06:42:47+00:00', 'meta_airtemp': 13.27, 'meta_rain_1h_val': 2.4, 'meta_rain24h_sum': 2.4, 'meta_rain48h_sum': 26.0, 'coords': {'lon': 7.58573, 'lat': 47.54242}, 'stadtklima_basel_link': 'https://meteoblue.com/de/products/cityclimate/basel#0340AD8F', 'unix_timestamp': 1715755367}, {'name_original': '0340AD94', 'name_custom': 'Gundeldingerstrasse 1', 'dates_max_date': '2024-05-15T06:56:14+00:00', 'meta_airtemp': 13.38, 'meta_rain_1h_val': 0.0, 'meta_rain24h_sum': 0.0, 'meta_rain48h_sum': 0.0, 'coords': {'lon': 7.58335, 'lat': 47.54323}, 'stadtklima_basel_link': 'https://meteoblue.com/de/products/cityclimate/basel#0340AD94', 'unix_timestamp': 1715756174}, {'name_original': '0340AD9B', 'name_custom': 'Chrischonastraße', 'dates_max_date': '2024-05-15T07:00:21+00:00', 'meta_airtemp': 15.9, 'meta_rain_1h_val': 0.0, 'meta_rain24h_sum': 1.0, 'meta_rain48h_sum': 2.2, 'coords': {'lon': 7.6716433861, 'lat': 47.6049342913}, 'stadtklima_basel_link': 'https://meteoblue.com/de/products/cityclimate/basel#0340AD9B', 'unix_timestamp': 1715756421}, {'name_original': '0340AD9F', 'name_custom': 'Lysbüchel 3', 'dates_max_date': '2024-05-15T06:56:46+00:00', 'meta_airtemp': 14.25, 'meta_rain_1h_val': 0.0, 'meta_rain24h_sum': 3.2, 'meta_rain48h_sum': 10.6, 'coords': {'lon': 7.57367, 'lat': 47.57342}, 'stadtklima_basel_link': 'https://meteoblue.com/de/products/cityclimate/basel#0340AD9F', 'unix_timestamp': 1715756206}]}\n"
     ]
    }
   ],
   "execution_count": 21
  }
 ],
 "metadata": {
  "kernelspec": {
   "display_name": "Python 3",
   "language": "python",
   "name": "python3"
  },
  "language_info": {
   "codemirror_mode": {
    "name": "ipython",
    "version": 2
   },
   "file_extension": ".py",
   "mimetype": "text/x-python",
   "name": "python",
   "nbconvert_exporter": "python",
   "pygments_lexer": "ipython2",
   "version": "2.7.6"
  }
 },
 "nbformat": 4,
 "nbformat_minor": 5
}
